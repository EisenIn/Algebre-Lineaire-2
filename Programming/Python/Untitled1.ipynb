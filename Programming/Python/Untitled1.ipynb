{
 "cells": [
  {
   "cell_type": "code",
   "execution_count": 46,
   "id": "6cb5720e",
   "metadata": {},
   "outputs": [
    {
     "name": "stdout",
     "output_type": "stream",
     "text": [
      "⎡0  1  0  0  0  0⎤\n",
      "⎢                ⎥\n",
      "⎢2  0  0  0  0  0⎥\n",
      "⎢                ⎥\n",
      "⎢0  0  0  1  0  0⎥\n",
      "⎢                ⎥\n",
      "⎢0  0  2  0  0  0⎥\n",
      "⎢                ⎥\n",
      "⎢0  0  0  0  0  1⎥\n",
      "⎢                ⎥\n",
      "⎣0  0  0  0  3  0⎦\n",
      "The determinant of A is:\n",
      "-12\n"
     ]
    }
   ],
   "source": [
    "from sympy import *\n",
    "\n",
    "A = zeros(6,6)\n",
    "\n",
    "\n",
    "A[0,1]=1\n",
    "A[1,0]=2\n",
    "\n",
    "A[2,3]=1\n",
    "A[3,2]=2\n",
    "\n",
    "A[4,5]=1\n",
    "A[5,4]=3\n",
    "\n",
    "\n",
    "pprint(A)\n",
    "\n",
    "print(\"The determinant of A is:\") \n",
    "\n",
    "pprint(A.det())\n",
    "\n"
   ]
  },
  {
   "cell_type": "code",
   "execution_count": 47,
   "id": "6cfb4dd2",
   "metadata": {},
   "outputs": [],
   "source": [
    "from sympy import Matrix, eye\n",
    "import random\n",
    "\n",
    "def random_unimodular(n):\n",
    "    \"\"\"Generate a random n x n unimodular matrix (det = ±1) using SymPy.\"\"\"\n",
    "    U = eye(n)  # Start with identity matrix\n",
    "    for _ in range(10):  # Apply 10 random operations\n",
    "        i, j = random.sample(range(n), 2)  # Pick two distinct rows/columns\n",
    "        op = random.choice(['swap', 'add', 'scale'])\n",
    "        \n",
    "        if op == 'swap':\n",
    "            # Swap rows i and j\n",
    "            for k in range(n):\n",
    "                U[i, k], U[j, k] = U[j, k], U[i, k]\n",
    "        elif op == 'add':\n",
    "            # Add k*row_i to row_j (k random)\n",
    "            k = random.randint(-3, 3)\n",
    "            for m in range(n):\n",
    "                U[j, m] += k * U[i, m]\n",
    "        elif op == 'scale':\n",
    "            # Scale a row by -1\n",
    "            for k in range(n):\n",
    "                U[i, k] *= -1\n",
    "    return U\n",
    "\n",
    "\n",
    "U = random_unimodular(6)"
   ]
  },
  {
   "cell_type": "code",
   "execution_count": 48,
   "id": "fb96a744",
   "metadata": {},
   "outputs": [],
   "source": [
    "A = U.inv()* A * U"
   ]
  },
  {
   "cell_type": "code",
   "execution_count": 49,
   "id": "188844fb",
   "metadata": {},
   "outputs": [
    {
     "name": "stdout",
     "output_type": "stream",
     "text": [
      "⎡0   -1  0    0   0   -2⎤\n",
      "⎢                       ⎥\n",
      "⎢-2  0   0   -18  -6  0 ⎥\n",
      "⎢                       ⎥\n",
      "⎢0   0   6   -17  0   0 ⎥\n",
      "⎢                       ⎥\n",
      "⎢0   0   2   -6   0   0 ⎥\n",
      "⎢                       ⎥\n",
      "⎢0   0   -6  18   0   1 ⎥\n",
      "⎢                       ⎥\n",
      "⎣0   0   0    9   3   0 ⎦\n"
     ]
    }
   ],
   "source": [
    "pprint(A)"
   ]
  },
  {
   "cell_type": "code",
   "execution_count": 63,
   "id": "f2b833d3",
   "metadata": {},
   "outputs": [
    {
     "name": "stdout",
     "output_type": "stream",
     "text": [
      " 6      4       2     \n",
      "x  - 7⋅x  + 16⋅x  - 12\n",
      "⎡0  0  0  0  0  0⎤\n",
      "⎢                ⎥\n",
      "⎢0  0  0  0  0  0⎥\n",
      "⎢                ⎥\n",
      "⎢0  0  0  0  0  0⎥\n",
      "⎢                ⎥\n",
      "⎢0  0  0  0  0  0⎥\n",
      "⎢                ⎥\n",
      "⎢0  0  0  0  0  0⎥\n",
      "⎢                ⎥\n",
      "⎣0  0  0  0  0  0⎦\n"
     ]
    },
    {
     "data": {
      "text/latex": [
       "$\\displaystyle -12 + \\left[\\begin{matrix}12 & 0 & 0 & 0 & 0 & 0\\\\0 & 12 & 0 & 0 & 0 & 0\\\\0 & 0 & 12 & 0 & 0 & 0\\\\0 & 0 & 0 & 12 & 0 & 0\\\\0 & 0 & 0 & 0 & 12 & 0\\\\0 & 0 & 0 & 0 & 0 & 12\\end{matrix}\\right]$"
      ],
      "text/plain": [
       "-12 + Matrix([\n",
       "[12,  0,  0,  0,  0,  0],\n",
       "[ 0, 12,  0,  0,  0,  0],\n",
       "[ 0,  0, 12,  0,  0,  0],\n",
       "[ 0,  0,  0, 12,  0,  0],\n",
       "[ 0,  0,  0,  0, 12,  0],\n",
       "[ 0,  0,  0,  0,  0, 12]])"
      ]
     },
     "execution_count": 63,
     "metadata": {},
     "output_type": "execute_result"
    }
   ],
   "source": [
    "p = A.charpoly(x).as_expr()\n",
    "\n",
    "pprint(p)\n",
    "\n",
    "\n",
    "\n",
    "pprint (A**6 - 7* A**4 + 16 * A**2 - 12 * eye(6) )\n",
    "\n",
    "p.subs(x,A)"
   ]
  },
  {
   "cell_type": "code",
   "execution_count": 36,
   "id": "8ed6948d",
   "metadata": {},
   "outputs": [
    {
     "ename": "TypeError",
     "evalue": "cannot add <class 'sympy.matrices.immutable.ImmutableDenseMatrix'> and <class 'sympy.core.mul.Mul'>",
     "output_type": "error",
     "traceback": [
      "\u001b[0;31m---------------------------------------------------------------------------\u001b[0m",
      "\u001b[0;31mTypeError\u001b[0m                                 Traceback (most recent call last)",
      "Cell \u001b[0;32mIn[36], line 8\u001b[0m\n\u001b[1;32m      5\u001b[0m x \u001b[38;5;241m=\u001b[39m symbols(\u001b[38;5;124m'\u001b[39m\u001b[38;5;124mx\u001b[39m\u001b[38;5;124m'\u001b[39m)\n\u001b[1;32m      7\u001b[0m \u001b[38;5;66;03m# Compute minimal polynomial\u001b[39;00m\n\u001b[0;32m----> 8\u001b[0m m_A \u001b[38;5;241m=\u001b[39m minimal_polynomial(x, A)  \u001b[38;5;66;03m# Equivalent: minimal_polynomial(A, x='x')\u001b[39;00m\n\u001b[1;32m     10\u001b[0m \u001b[38;5;66;03m# Verify by substituting the matrix into the polynomial\u001b[39;00m\n\u001b[1;32m     11\u001b[0m n \u001b[38;5;241m=\u001b[39m A\u001b[38;5;241m.\u001b[39mrows\n",
      "File \u001b[0;32m~/anaconda3/lib/python3.11/site-packages/sympy/polys/numberfields/minpoly.py:704\u001b[0m, in \u001b[0;36mminimal_polynomial\u001b[0;34m(ex, x, compose, polys, domain)\u001b[0m\n\u001b[1;32m    700\u001b[0m     \u001b[38;5;28;01mraise\u001b[39;00m GeneratorsError(\u001b[38;5;124m\"\u001b[39m\u001b[38;5;124mthe variable \u001b[39m\u001b[38;5;132;01m%s\u001b[39;00m\u001b[38;5;124m is an element of the ground \u001b[39m\u001b[38;5;124m\"\u001b[39m\n\u001b[1;32m    701\u001b[0m                           \u001b[38;5;124m\"\u001b[39m\u001b[38;5;124mdomain \u001b[39m\u001b[38;5;132;01m%s\u001b[39;00m\u001b[38;5;124m\"\u001b[39m \u001b[38;5;241m%\u001b[39m (x, domain))\n\u001b[1;32m    703\u001b[0m \u001b[38;5;28;01mif\u001b[39;00m compose:\n\u001b[0;32m--> 704\u001b[0m     result \u001b[38;5;241m=\u001b[39m _minpoly_compose(ex, x, domain)\n\u001b[1;32m    705\u001b[0m     result \u001b[38;5;241m=\u001b[39m result\u001b[38;5;241m.\u001b[39mprimitive()[\u001b[38;5;241m1\u001b[39m]\n\u001b[1;32m    706\u001b[0m     c \u001b[38;5;241m=\u001b[39m result\u001b[38;5;241m.\u001b[39mcoeff(x\u001b[38;5;241m*\u001b[39m\u001b[38;5;241m*\u001b[39mdegree(result, x))\n",
      "File \u001b[0;32m~/anaconda3/lib/python3.11/site-packages/sympy/polys/numberfields/minpoly.py:571\u001b[0m, in \u001b[0;36m_minpoly_compose\u001b[0;34m(ex, x, dom)\u001b[0m\n\u001b[1;32m    568\u001b[0m         \u001b[38;5;28;01mreturn\u001b[39;00m _choose_factor(factors, x, fac, dom\u001b[38;5;241m=\u001b[39mdom)\n\u001b[1;32m    570\u001b[0m \u001b[38;5;28;01mif\u001b[39;00m \u001b[38;5;28mhasattr\u001b[39m(dom, \u001b[38;5;124m'\u001b[39m\u001b[38;5;124msymbols\u001b[39m\u001b[38;5;124m'\u001b[39m) \u001b[38;5;129;01mand\u001b[39;00m ex \u001b[38;5;129;01min\u001b[39;00m dom\u001b[38;5;241m.\u001b[39msymbols:\n\u001b[0;32m--> 571\u001b[0m     \u001b[38;5;28;01mreturn\u001b[39;00m x \u001b[38;5;241m-\u001b[39m ex\n\u001b[1;32m    573\u001b[0m \u001b[38;5;28;01mif\u001b[39;00m dom\u001b[38;5;241m.\u001b[39mis_QQ \u001b[38;5;129;01mand\u001b[39;00m _is_sum_surds(ex):\n\u001b[1;32m    574\u001b[0m     \u001b[38;5;66;03m# eliminate the square roots\u001b[39;00m\n\u001b[1;32m    575\u001b[0m     ex \u001b[38;5;241m-\u001b[39m\u001b[38;5;241m=\u001b[39m x\n",
      "File \u001b[0;32m~/anaconda3/lib/python3.11/site-packages/sympy/core/decorators.py:106\u001b[0m, in \u001b[0;36mcall_highest_priority.<locals>.priority_decorator.<locals>.binary_op_wrapper\u001b[0;34m(self, other)\u001b[0m\n\u001b[1;32m    104\u001b[0m         \u001b[38;5;28;01mif\u001b[39;00m f \u001b[38;5;129;01mis\u001b[39;00m \u001b[38;5;129;01mnot\u001b[39;00m \u001b[38;5;28;01mNone\u001b[39;00m:\n\u001b[1;32m    105\u001b[0m             \u001b[38;5;28;01mreturn\u001b[39;00m f(\u001b[38;5;28mself\u001b[39m)\n\u001b[0;32m--> 106\u001b[0m \u001b[38;5;28;01mreturn\u001b[39;00m func(\u001b[38;5;28mself\u001b[39m, other)\n",
      "File \u001b[0;32m~/anaconda3/lib/python3.11/site-packages/sympy/matrices/common.py:2937\u001b[0m, in \u001b[0;36mMatrixArithmetic.__sub__\u001b[0;34m(self, a)\u001b[0m\n\u001b[1;32m   2935\u001b[0m \u001b[38;5;129m@call_highest_priority\u001b[39m(\u001b[38;5;124m'\u001b[39m\u001b[38;5;124m__rsub__\u001b[39m\u001b[38;5;124m'\u001b[39m)\n\u001b[1;32m   2936\u001b[0m \u001b[38;5;28;01mdef\u001b[39;00m \u001b[38;5;21m__sub__\u001b[39m(\u001b[38;5;28mself\u001b[39m, a):\n\u001b[0;32m-> 2937\u001b[0m     \u001b[38;5;28;01mreturn\u001b[39;00m \u001b[38;5;28mself\u001b[39m \u001b[38;5;241m+\u001b[39m (\u001b[38;5;241m-\u001b[39ma)\n",
      "File \u001b[0;32m~/anaconda3/lib/python3.11/site-packages/sympy/core/decorators.py:106\u001b[0m, in \u001b[0;36mcall_highest_priority.<locals>.priority_decorator.<locals>.binary_op_wrapper\u001b[0;34m(self, other)\u001b[0m\n\u001b[1;32m    104\u001b[0m         \u001b[38;5;28;01mif\u001b[39;00m f \u001b[38;5;129;01mis\u001b[39;00m \u001b[38;5;129;01mnot\u001b[39;00m \u001b[38;5;28;01mNone\u001b[39;00m:\n\u001b[1;32m    105\u001b[0m             \u001b[38;5;28;01mreturn\u001b[39;00m f(\u001b[38;5;28mself\u001b[39m)\n\u001b[0;32m--> 106\u001b[0m \u001b[38;5;28;01mreturn\u001b[39;00m func(\u001b[38;5;28mself\u001b[39m, other)\n",
      "File \u001b[0;32m~/anaconda3/lib/python3.11/site-packages/sympy/matrices/common.py:2656\u001b[0m, in \u001b[0;36mMatrixArithmetic.__add__\u001b[0;34m(self, other)\u001b[0m\n\u001b[1;32m   2653\u001b[0m \u001b[38;5;28;01mif\u001b[39;00m \u001b[38;5;28mgetattr\u001b[39m(other, \u001b[38;5;124m'\u001b[39m\u001b[38;5;124mis_MatrixLike\u001b[39m\u001b[38;5;124m'\u001b[39m, \u001b[38;5;28;01mFalse\u001b[39;00m):\n\u001b[1;32m   2654\u001b[0m     \u001b[38;5;28;01mreturn\u001b[39;00m MatrixArithmetic\u001b[38;5;241m.\u001b[39m_eval_add(\u001b[38;5;28mself\u001b[39m, other)\n\u001b[0;32m-> 2656\u001b[0m \u001b[38;5;28;01mraise\u001b[39;00m \u001b[38;5;167;01mTypeError\u001b[39;00m(\u001b[38;5;124m'\u001b[39m\u001b[38;5;124mcannot add \u001b[39m\u001b[38;5;132;01m%s\u001b[39;00m\u001b[38;5;124m and \u001b[39m\u001b[38;5;132;01m%s\u001b[39;00m\u001b[38;5;124m'\u001b[39m \u001b[38;5;241m%\u001b[39m (\u001b[38;5;28mtype\u001b[39m(\u001b[38;5;28mself\u001b[39m), \u001b[38;5;28mtype\u001b[39m(other)))\n",
      "\u001b[0;31mTypeError\u001b[0m: cannot add <class 'sympy.matrices.immutable.ImmutableDenseMatrix'> and <class 'sympy.core.mul.Mul'>"
     ]
    }
   ],
   "source": [
    "from sympy import Matrix, minimal_polynomial, symbols, eye\n",
    "\n",
    "# Define matrix and variable\n",
    "A = Matrix([[4, 1, 0], [0, 4, 0], [0, 0, 3]])\n",
    "x = symbols('x')\n",
    "\n",
    "# Compute minimal polynomial\n",
    "m_A = minimal_polynomial(x, A)  # Equivalent: minimal_polynomial(A, x='x')\n",
    "\n",
    "# Verify by substituting the matrix into the polynomial\n",
    "n = A.rows\n",
    "zero_matrix = m_A.subs(x, A)  # Should return the zero matrix\n",
    "print(\"Verification (should be zero matrix):\\n\", zero_matrix)\n",
    "assert zero_matrix == eye(n) * 0  # Explicit check"
   ]
  },
  {
   "cell_type": "code",
   "execution_count": null,
   "id": "b09f3907",
   "metadata": {},
   "outputs": [],
   "source": []
  }
 ],
 "metadata": {
  "kernelspec": {
   "display_name": "Python 3 (ipykernel)",
   "language": "python",
   "name": "python3"
  },
  "language_info": {
   "codemirror_mode": {
    "name": "ipython",
    "version": 3
   },
   "file_extension": ".py",
   "mimetype": "text/x-python",
   "name": "python",
   "nbconvert_exporter": "python",
   "pygments_lexer": "ipython3",
   "version": "3.11.5"
  }
 },
 "nbformat": 4,
 "nbformat_minor": 5
}
