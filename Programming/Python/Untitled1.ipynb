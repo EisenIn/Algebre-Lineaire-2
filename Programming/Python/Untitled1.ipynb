{
 "cells": [
  {
   "cell_type": "code",
   "execution_count": 10,
   "id": "6cb5720e",
   "metadata": {},
   "outputs": [
    {
     "name": "stdout",
     "output_type": "stream",
     "text": [
      "⎡0  1  0  0⎤\n",
      "⎢          ⎥\n",
      "⎢0  0  0  0⎥\n",
      "⎢          ⎥\n",
      "⎢0  0  0  1⎥\n",
      "⎢          ⎥\n",
      "⎣0  0  0  0⎦\n"
     ]
    }
   ],
   "source": [
    "from sympy import *\n",
    "\n",
    "A = Matrix([[0, 1, 0,0], [0,0,0,0],[0,0,0,1],[0,0,0,0]])\n",
    "\n",
    "pprint(A)\n"
   ]
  },
  {
   "cell_type": "code",
   "execution_count": 13,
   "id": "77da681a",
   "metadata": {},
   "outputs": [
    {
     "name": "stdout",
     "output_type": "stream",
     "text": [
      "⎡1  2   -2  1 ⎤\n",
      "⎢             ⎥\n",
      "⎢0  -1  2   -3⎥\n",
      "⎢             ⎥\n",
      "⎢0  0   1   1 ⎥\n",
      "⎢             ⎥\n",
      "⎣0  0   0   -1⎦\n",
      "⎡0  -1  2  -1⎤\n",
      "⎢            ⎥\n",
      "⎢0  0   0  -2⎥\n",
      "⎢            ⎥\n",
      "⎢0  0   0  -1⎥\n",
      "⎢            ⎥\n",
      "⎣0  0   0  0 ⎦\n"
     ]
    }
   ],
   "source": [
    "P = Matrix([[1, 2, -2,1], [0,-1,2,-3],[0,0,1,1],[0,0,0,-1]])\n",
    "\n",
    "pprint(P)\n",
    "\n",
    "N = P.inv() * A * P\n",
    "\n",
    "pprint(N)"
   ]
  },
  {
   "cell_type": "code",
   "execution_count": 16,
   "id": "6cfb4dd2",
   "metadata": {},
   "outputs": [
    {
     "name": "stdout",
     "output_type": "stream",
     "text": [
      "Original matrix:\n",
      "⎡1  2  3⎤\n",
      "⎢       ⎥\n",
      "⎢4  5  6⎥\n",
      "⎢       ⎥\n",
      "⎣7  8  9⎦\n",
      "\n",
      "After swapping columns 0 and 2:\n",
      "⎡3  2  1⎤\n",
      "⎢       ⎥\n",
      "⎢6  5  4⎥\n",
      "⎢       ⎥\n",
      "⎣9  8  7⎦\n"
     ]
    }
   ],
   "source": [
    "def swap_columns(M, i, j):\n",
    "    \"\"\"Swap columns i and j of matrix M (0-based) IN-PLACE.\"\"\"\n",
    "    for k in range(M.rows):\n",
    "        M[k, i], M[k, j] = M[k, j], M[k, i]  # Swap elements row-wise\n",
    "    return M  # Optional (modifies original matrix)\n",
    "\n",
    "# Example:\n",
    "A = Matrix([[1, 2, 3], [4, 5, 6], [7, 8, 9]])\n",
    "print(\"Original matrix:\")\n",
    "pprint(A)\n",
    "\n",
    "swap_columns(A, 0, 2)  # Swap first and third columns\n",
    "print(\"\\nAfter swapping columns 0 and 2:\")\n",
    "pprint(A)\n",
    "\n"
   ]
  },
  {
   "cell_type": "code",
   "execution_count": null,
   "id": "fb96a744",
   "metadata": {},
   "outputs": [],
   "source": []
  }
 ],
 "metadata": {
  "kernelspec": {
   "display_name": "Python 3 (ipykernel)",
   "language": "python",
   "name": "python3"
  },
  "language_info": {
   "codemirror_mode": {
    "name": "ipython",
    "version": 3
   },
   "file_extension": ".py",
   "mimetype": "text/x-python",
   "name": "python",
   "nbconvert_exporter": "python",
   "pygments_lexer": "ipython3",
   "version": "3.11.5"
  }
 },
 "nbformat": 4,
 "nbformat_minor": 5
}
