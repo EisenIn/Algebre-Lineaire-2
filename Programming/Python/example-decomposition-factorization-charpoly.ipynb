{
 "cells": [
  {
   "cell_type": "code",
   "execution_count": 1,
   "id": "8f475fc5",
   "metadata": {},
   "outputs": [],
   "source": [
    "from sympy import *"
   ]
  },
  {
   "cell_type": "code",
   "execution_count": 16,
   "id": "28a15574",
   "metadata": {},
   "outputs": [
    {
     "name": "stdout",
     "output_type": "stream",
     "text": [
      "\\left[\\begin{matrix}-2 & 0 & 1 & 0\\\\0 & -2 & 0 & 1\\\\-6 & 0 & 3 & 0\\\\0 & -6 & 0 & 3\\end{matrix}\\right]\n",
      "\\left[\\begin{matrix}-3 & 0 & 1 & 0\\\\0 & -3 & 0 & 1\\\\-6 & 0 & 2 & 0\\\\0 & -6 & 0 & 2\\end{matrix}\\right]\n",
      "Nullspace basis matrix (columns are basis vectors):\n"
     ]
    },
    {
     "data": {
      "text/latex": [
       "$\\displaystyle \\left[\\begin{matrix}\\frac{1}{2} & 0\\\\0 & \\frac{1}{2}\\\\1 & 0\\\\0 & 1\\end{matrix}\\right]$"
      ],
      "text/plain": [
       "Matrix([\n",
       "[1/2,   0],\n",
       "[  0, 1/2],\n",
       "[  1,   0],\n",
       "[  0,   1]])"
      ]
     },
     "metadata": {},
     "output_type": "display_data"
    },
    {
     "name": "stdout",
     "output_type": "stream",
     "text": [
      "\\left[ \\left[\\begin{matrix}\\frac{1}{2}\\\\0\\\\1\\\\0\\end{matrix}\\right], \\  \\left[\\begin{matrix}0\\\\\\frac{1}{2}\\\\0\\\\1\\end{matrix}\\right]\\right]\n",
      "\\left[ \\left[\\begin{matrix}\\frac{1}{3}\\\\0\\\\1\\\\0\\end{matrix}\\right], \\  \\left[\\begin{matrix}0\\\\\\frac{1}{3}\\\\0\\\\1\\end{matrix}\\right]\\right]\n",
      "Nullspace basis matrix (columns are basis vectors):\n"
     ]
    },
    {
     "data": {
      "text/latex": [
       "$\\displaystyle \\left[\\begin{matrix}\\frac{1}{3} & 0\\\\0 & \\frac{1}{3}\\\\1 & 0\\\\0 & 1\\end{matrix}\\right]$"
      ],
      "text/plain": [
       "Matrix([\n",
       "[1/3,   0],\n",
       "[  0, 1/3],\n",
       "[  1,   0],\n",
       "[  0,   1]])"
      ]
     },
     "metadata": {},
     "output_type": "display_data"
    },
    {
     "data": {
      "text/latex": [
       "$\\displaystyle \\left[\\begin{matrix}\\frac{1}{2} & 0 & \\frac{1}{3} & 0\\\\0 & \\frac{1}{2} & 0 & \\frac{1}{3}\\\\1 & 0 & 1 & 0\\\\0 & 1 & 0 & 1\\end{matrix}\\right]$"
      ],
      "text/plain": [
       "Matrix([\n",
       "[1/2,   0, 1/3,   0],\n",
       "[  0, 1/2,   0, 1/3],\n",
       "[  1,   0,   1,   0],\n",
       "[  0,   1,   0,   1]])"
      ]
     },
     "metadata": {},
     "output_type": "display_data"
    },
    {
     "name": "stdout",
     "output_type": "stream",
     "text": [
      "\\left[\\begin{matrix}\\frac{1}{2} & 0 & \\frac{1}{3} & 0\\\\0 & \\frac{1}{2} & 0 & \\frac{1}{3}\\\\1 & 0 & 1 & 0\\\\0 & 1 & 0 & 1\\end{matrix}\\right]\n"
     ]
    },
    {
     "data": {
      "text/latex": [
       "$\\displaystyle \\left[\\begin{matrix}0 & 1 & 0 & 0\\\\2 & 0 & 0 & 0\\\\0 & 0 & 0 & 1\\\\0 & 0 & 3 & 0\\end{matrix}\\right]$"
      ],
      "text/plain": [
       "Matrix([\n",
       "[0, 1, 0, 0],\n",
       "[2, 0, 0, 0],\n",
       "[0, 0, 0, 1],\n",
       "[0, 0, 3, 0]])"
      ]
     },
     "metadata": {},
     "output_type": "display_data"
    },
    {
     "name": "stdout",
     "output_type": "stream",
     "text": [
      "\\left[\\begin{matrix}0 & 1 & 0 & 0\\\\2 & 0 & 0 & 0\\\\0 & 0 & 0 & 1\\\\0 & 0 & 3 & 0\\end{matrix}\\right]\n"
     ]
    }
   ],
   "source": [
    "A = Matrix([[0,1,0,0],[0,0,1,0],[0,0,0,1],[-6,0,5,0]])\n",
    "B_1 = A**2 - 2* eye(4) \n",
    "B_2 = A**2 - 3* eye(4) \n",
    "\n",
    "print(latex(B_1))\n",
    "print(latex(B_2))\n",
    "\n",
    "K_1 = B_1.nullspace()\n",
    "\n",
    "if K_1:  # Check if nullspace is non-trivial\n",
    "    N_1 = Matrix.hstack(*K_1)\n",
    "    print(\"Nullspace basis matrix (columns are basis vectors):\")\n",
    "    display(N_1)  # or print(N) if not in a notebook\n",
    "else:\n",
    "    print(\"The nullspace is trivial (only the zero vector).\")\n",
    "\n",
    "K_2 = B_2.nullspace()\n",
    "\n",
    "print(latex(K_1))\n",
    "print(latex(K_2))\n",
    "\n",
    "if K_2:  # Check if nullspace is non-trivial\n",
    "    N_2 = Matrix.hstack(*K_2)\n",
    "    print(\"Nullspace basis matrix (columns are basis vectors):\")\n",
    "    display(N_2)  # or print(N) if not in a notebook\n",
    "else:\n",
    "    print(\"The nullspace is trivial (only the zero vector).\")\n",
    "\n",
    "N = Matrix.hstack(N_1,N_2)\n",
    "\n",
    "\n",
    "\n",
    "display(N)\n",
    "\n",
    "print(latex(N))\n",
    "\n",
    "display(N.inv() * A * N)\n",
    "\n",
    "print(latex(N.inv() * A * N))"
   ]
  },
  {
   "cell_type": "code",
   "execution_count": 31,
   "id": "6477ec28",
   "metadata": {},
   "outputs": [
    {
     "name": "stdout",
     "output_type": "stream",
     "text": [
      "PurePoly(lambda**4 - 5*lambda**2 + 6, lambda, domain='ZZ')\n"
     ]
    }
   ],
   "source": [
    "p = A.charpoly()\n",
    "pprint(p)"
   ]
  },
  {
   "cell_type": "code",
   "execution_count": 33,
   "id": "88b1ab91",
   "metadata": {},
   "outputs": [
    {
     "name": "stdout",
     "output_type": "stream",
     "text": [
      "\\left[\\begin{matrix}-2 & 0 & 1 & 0\\\\0 & -2 & 0 & 1\\\\-6 & 0 & 3 & 0\\\\0 & -6 & 0 & 3\\end{matrix}\\right]\n",
      "\\left[\\begin{matrix}-3 & 0 & 1 & 0\\\\0 & -3 & 0 & 1\\\\-6 & 0 & 2 & 0\\\\0 & -6 & 0 & 2\\end{matrix}\\right]\n"
     ]
    }
   ],
   "source": [
    "print(latex(A**2 - 2 * eye(4)) )\n",
    "print(latex(A**2 - 3 * eye(4)) )"
   ]
  },
  {
   "cell_type": "code",
   "execution_count": 25,
   "id": "08ad0f03",
   "metadata": {},
   "outputs": [
    {
     "data": {
      "text/latex": [
       "$\\displaystyle \\left[\\begin{matrix}0 & 0 & -5 & 0\\\\0 & 0 & 0 & -5\\\\30 & 0 & -25 & 0\\\\0 & 30 & 0 & -25\\end{matrix}\\right]$"
      ],
      "text/plain": [
       "Matrix([\n",
       "[ 0,  0,  -5,   0],\n",
       "[ 0,  0,   0,  -5],\n",
       "[30,  0, -25,   0],\n",
       "[ 0, 30,   0, -25]])"
      ]
     },
     "execution_count": 25,
     "metadata": {},
     "output_type": "execute_result"
    }
   ],
   "source": [
    "- 5*A**2 "
   ]
  },
  {
   "cell_type": "code",
   "execution_count": 27,
   "id": "45de3da4",
   "metadata": {},
   "outputs": [
    {
     "data": {
      "text/latex": [
       "$\\displaystyle \\left[\\begin{matrix}6 & 0 & 0 & 0\\\\0 & 6 & 0 & 0\\\\0 & 0 & 6 & 0\\\\0 & 0 & 0 & 6\\end{matrix}\\right]$"
      ],
      "text/plain": [
       "Matrix([\n",
       "[6, 0, 0, 0],\n",
       "[0, 6, 0, 0],\n",
       "[0, 0, 6, 0],\n",
       "[0, 0, 0, 6]])"
      ]
     },
     "execution_count": 27,
     "metadata": {},
     "output_type": "execute_result"
    }
   ],
   "source": [
    " 6 * eye(4)"
   ]
  },
  {
   "cell_type": "code",
   "execution_count": 34,
   "id": "1dd701ae",
   "metadata": {},
   "outputs": [
    {
     "name": "stdout",
     "output_type": "stream",
     "text": [
      "\\left[\\begin{matrix}0 & 0 & 0 & 0\\\\0 & 0 & 0 & 0\\\\0 & 0 & 0 & 0\\\\0 & 0 & 0 & 0\\end{matrix}\\right]\n"
     ]
    }
   ],
   "source": [
    "Z = Matrix(4, 4, lambda i, j: 0) \n",
    "print(latex(Z))"
   ]
  },
  {
   "cell_type": "code",
   "execution_count": null,
   "id": "196d0cb0",
   "metadata": {},
   "outputs": [],
   "source": []
  }
 ],
 "metadata": {
  "kernelspec": {
   "display_name": "Python 3 (ipykernel)",
   "language": "python",
   "name": "python3"
  },
  "language_info": {
   "codemirror_mode": {
    "name": "ipython",
    "version": 3
   },
   "file_extension": ".py",
   "mimetype": "text/x-python",
   "name": "python",
   "nbconvert_exporter": "python",
   "pygments_lexer": "ipython3",
   "version": "3.11.5"
  }
 },
 "nbformat": 4,
 "nbformat_minor": 5
}
