{
 "cells": [
  {
   "cell_type": "code",
   "execution_count": 1,
   "id": "83f4bf93-75b3-445a-ae6f-c0909e1f3b82",
   "metadata": {},
   "outputs": [],
   "source": [
    "from sage.matrix.constructor import random_unimodular_matrix"
   ]
  },
  {
   "cell_type": "code",
   "execution_count": 2,
   "id": "2bdd1640-3c9a-4d7c-87f3-ed2b628d962b",
   "metadata": {},
   "outputs": [],
   "source": [
    "C = random_matrix(ZZ, 5, algorithm='unimodular', upper_bound=3);"
   ]
  },
  {
   "cell_type": "code",
   "execution_count": 3,
   "id": "4e21e3e6-54bc-467f-a3dc-644007ad44b2",
   "metadata": {},
   "outputs": [
    {
     "data": {
      "text/plain": [
       "[ 1  1  2  1 -2]\n",
       "[ 0  1  0  1  0]\n",
       "[-2  1 -1  0  2]\n",
       "[ 0  2  1  2 -2]\n",
       "[ 0  2  1  2 -1]"
      ]
     },
     "execution_count": 3,
     "metadata": {},
     "output_type": "execute_result"
    }
   ],
   "source": [
    "C"
   ]
  },
  {
   "cell_type": "code",
   "execution_count": 4,
   "id": "7361e050-5257-4051-90a0-89868befffe7",
   "metadata": {},
   "outputs": [
    {
     "data": {
      "text/plain": [
       "1"
      ]
     },
     "execution_count": 4,
     "metadata": {},
     "output_type": "execute_result"
    }
   ],
   "source": [
    "C.determinant()"
   ]
  },
  {
   "cell_type": "code",
   "execution_count": 5,
   "id": "7e3d5687-f544-416a-b771-d5a8f6d2c8e4",
   "metadata": {},
   "outputs": [],
   "source": [
    "J = matrix(QQ, 5)\n",
    "for i in range(5):\n",
    "    J[i,i]=2\n",
    "J[4,4]=5    \n",
    "J[0,1]=1\n",
    "J[2,3]=1"
   ]
  },
  {
   "cell_type": "code",
   "execution_count": 6,
   "id": "2bc783e7-755f-4041-8a8e-dd21347651a6",
   "metadata": {},
   "outputs": [
    {
     "data": {
      "text/plain": [
       "[2 1 0 0 0]\n",
       "[0 2 0 0 0]\n",
       "[0 0 2 1 0]\n",
       "[0 0 0 2 0]\n",
       "[0 0 0 0 5]"
      ]
     },
     "execution_count": 6,
     "metadata": {},
     "output_type": "execute_result"
    }
   ],
   "source": [
    "J"
   ]
  },
  {
   "cell_type": "code",
   "execution_count": 7,
   "id": "09e21273-71fc-4b53-9d1b-4f64e969e7bd",
   "metadata": {},
   "outputs": [],
   "source": [
    "A = C.inverse() * J * C"
   ]
  },
  {
   "cell_type": "code",
   "execution_count": 16,
   "id": "c3328fc8-c2dd-4ff3-bc19-b98a71b7181f",
   "metadata": {},
   "outputs": [
    {
     "data": {
      "text/html": [
       "<html>\\[\\newcommand{\\Bold}[1]{\\mathbf{#1}}\\left(\\begin{array}{rrrrr}\n",
       "2 & -11 & -6 & -11 & 6 \\\\\n",
       "0 & -18 & -11 & -20 & 10 \\\\\n",
       "0 & 12 & 8 & 12 & -6 \\\\\n",
       "0 & 20 & 11 & 22 & -10 \\\\\n",
       "0 & 6 & 3 & 6 & -1\n",
       "\\end{array}\\right)\\]</html>"
      ],
      "text/latex": [
       "$$\\newcommand{\\Bold}[1]{\\mathbf{#1}}\\left(\\begin{array}{rrrrr}\n",
       "2 & -11 & -6 & -11 & 6 \\\\\n",
       "0 & -18 & -11 & -20 & 10 \\\\\n",
       "0 & 12 & 8 & 12 & -6 \\\\\n",
       "0 & 20 & 11 & 22 & -10 \\\\\n",
       "0 & 6 & 3 & 6 & -1\n",
       "\\end{array}\\right)$$"
      ],
      "text/plain": [
       "[  2 -11  -6 -11   6]\n",
       "[  0 -18 -11 -20  10]\n",
       "[  0  12   8  12  -6]\n",
       "[  0  20  11  22 -10]\n",
       "[  0   6   3   6  -1]"
      ]
     },
     "metadata": {},
     "output_type": "display_data"
    },
    {
     "data": {
      "text/plain": [
       "\\left(\\begin{array}{rrrrr}\n",
       "2 & -11 & -6 & -11 & 6 \\\\\n",
       "0 & -18 & -11 & -20 & 10 \\\\\n",
       "0 & 12 & 8 & 12 & -6 \\\\\n",
       "0 & 20 & 11 & 22 & -10 \\\\\n",
       "0 & 6 & 3 & 6 & -1\n",
       "\\end{array}\\right)"
      ]
     },
     "execution_count": 16,
     "metadata": {},
     "output_type": "execute_result"
    }
   ],
   "source": [
    "pretty_print(A)\n",
    "latex(A)"
   ]
  },
  {
   "cell_type": "code",
   "execution_count": 9,
   "id": "e1858b1b-182f-484e-9fa6-c69c608ec226",
   "metadata": {},
   "outputs": [],
   "source": [
    "K_1 = (A - 2 * matrix.identity(5))^4\n",
    "K_1\n",
    "K_2 = (A - 5*matrix.identity(5))\n",
    "\n"
   ]
  },
  {
   "cell_type": "code",
   "execution_count": 10,
   "id": "7fda039d-3a89-4d55-b293-a7d8040ecfa7",
   "metadata": {},
   "outputs": [
    {
     "data": {
      "text/plain": [
       "Vector space of degree 5 and dimension 4 over Rational Field\n",
       "Basis matrix:\n",
       "[1 0 0 0 0]\n",
       "[0 1 0 0 2]\n",
       "[0 0 1 0 1]\n",
       "[0 0 0 1 2]"
      ]
     },
     "execution_count": 10,
     "metadata": {},
     "output_type": "execute_result"
    }
   ],
   "source": [
    "V = kernel(K_1.transpose())\n",
    "V_2 = kernel(K_2.transpose())\n",
    "V"
   ]
  },
  {
   "cell_type": "code",
   "execution_count": 11,
   "id": "0997890b-d21b-439e-9ff7-1d7b0d0e826d",
   "metadata": {},
   "outputs": [],
   "source": [
    "B_1 = matrix(V.basis())\n",
    "B_2 = Matrix(QQ,5)\n",
    "B_3 = matrix(V_2.basis())\n",
    "for i in range(4):\n",
    "    B_2[i]=B_1[i]\n",
    "B_2[4] = B_3[0]\n"
   ]
  },
  {
   "cell_type": "code",
   "execution_count": 12,
   "id": "65ffcab7-4e0c-4624-9303-3bb8807220f0",
   "metadata": {},
   "outputs": [],
   "source": [
    "B_2 = B_2.transpose()"
   ]
  },
  {
   "cell_type": "code",
   "execution_count": 13,
   "id": "dd8ece0a-0c17-42cb-9174-a85522b88946",
   "metadata": {},
   "outputs": [
    {
     "data": {
      "text/plain": [
       "[ 2  1  0  1  0]\n",
       "[ 0  2 -1  0  0]\n",
       "[ 0  0  2  0  0]\n",
       "[ 0  0  1  2  0]\n",
       "[ 0  0  0  0  5]"
      ]
     },
     "execution_count": 13,
     "metadata": {},
     "output_type": "execute_result"
    }
   ],
   "source": [
    "B_2.inverse() * A * B_2"
   ]
  },
  {
   "cell_type": "code",
   "execution_count": 14,
   "id": "8253055c-9fb1-4296-83aa-3a7318f1fdf3",
   "metadata": {},
   "outputs": [],
   "source": [
    "N = matrix(QQ,4) \n",
    "for i in range(4):\n",
    "    for j in range(4):\n",
    "        N[i,j] = (B_2.inverse() * A * B_2)[i,j]\n",
    "N = N - 2 * matrix.identity(4)        "
   ]
  },
  {
   "cell_type": "code",
   "execution_count": 17,
   "id": "d4350bc6-7d84-46cb-b00c-f204395b0f77",
   "metadata": {},
   "outputs": [
    {
     "data": {
      "text/html": [
       "<html>\\[\\newcommand{\\Bold}[1]{\\mathbf{#1}}\\left(\\begin{array}{rrrr}\n",
       "0 & 1 & 0 & 1 \\\\\n",
       "0 & 0 & -1 & 0 \\\\\n",
       "0 & 0 & 0 & 0 \\\\\n",
       "0 & 0 & 1 & 0\n",
       "\\end{array}\\right)\\]</html>"
      ],
      "text/latex": [
       "$$\\newcommand{\\Bold}[1]{\\mathbf{#1}}\\left(\\begin{array}{rrrr}\n",
       "0 & 1 & 0 & 1 \\\\\n",
       "0 & 0 & -1 & 0 \\\\\n",
       "0 & 0 & 0 & 0 \\\\\n",
       "0 & 0 & 1 & 0\n",
       "\\end{array}\\right)$$"
      ],
      "text/plain": [
       "[ 0  1  0  1]\n",
       "[ 0  0 -1  0]\n",
       "[ 0  0  0  0]\n",
       "[ 0  0  1  0]"
      ]
     },
     "metadata": {},
     "output_type": "display_data"
    },
    {
     "data": {
      "text/plain": [
       "\\left(\\begin{array}{rrrr}\n",
       "0 & 1 & 0 & 1 \\\\\n",
       "0 & 0 & -1 & 0 \\\\\n",
       "0 & 0 & 0 & 0 \\\\\n",
       "0 & 0 & 1 & 0\n",
       "\\end{array}\\right)"
      ]
     },
     "execution_count": 17,
     "metadata": {},
     "output_type": "execute_result"
    }
   ],
   "source": [
    "pretty_print(N)\n",
    "latex(N)"
   ]
  },
  {
   "cell_type": "code",
   "execution_count": 140,
   "id": "b616c635-278f-4a6e-9af2-32572d0b6abe",
   "metadata": {},
   "outputs": [
    {
     "data": {
      "text/plain": [
       "[0 0 0 0]\n",
       "[0 0 0 0]\n",
       "[0 0 0 0]\n",
       "[0 0 0 0]"
      ]
     },
     "execution_count": 140,
     "metadata": {},
     "output_type": "execute_result"
    }
   ],
   "source": [
    "N*N"
   ]
  },
  {
   "cell_type": "code",
   "execution_count": 23,
   "id": "eab27c7f-1999-4f53-b4e9-e4fd9739ddad",
   "metadata": {},
   "outputs": [
    {
     "data": {
      "text/plain": [
       "[ 0  0  0  0]\n",
       "[-1 -2 -2  2]\n",
       "[ 1  3  3 -3]\n",
       "[ 0  1  1 -1]"
      ]
     },
     "execution_count": 23,
     "metadata": {},
     "output_type": "execute_result"
    }
   ],
   "source": [
    "R = random_matrix(ZZ, 4, algorithm='unimodular', upper_bound=3)\n",
    "R.inverse()*N*R"
   ]
  },
  {
   "cell_type": "code",
   "execution_count": 24,
   "id": "c0c78b16",
   "metadata": {},
   "outputs": [],
   "source": [
    "N_1 = R.inverse()*N*R"
   ]
  },
  {
   "cell_type": "code",
   "execution_count": 25,
   "id": "db1cb41b",
   "metadata": {},
   "outputs": [
    {
     "data": {
      "text/html": [
       "<html>\\[\\newcommand{\\Bold}[1]{\\mathbf{#1}}\\left(\\begin{array}{rrrr}\n",
       "0 & 0 & 0 & 0 \\\\\n",
       "-1 & -2 & -2 & 2 \\\\\n",
       "1 & 3 & 3 & -3 \\\\\n",
       "0 & 1 & 1 & -1\n",
       "\\end{array}\\right)\\]</html>"
      ],
      "text/latex": [
       "$$\\newcommand{\\Bold}[1]{\\mathbf{#1}}\\left(\\begin{array}{rrrr}\n",
       "0 & 0 & 0 & 0 \\\\\n",
       "-1 & -2 & -2 & 2 \\\\\n",
       "1 & 3 & 3 & -3 \\\\\n",
       "0 & 1 & 1 & -1\n",
       "\\end{array}\\right)$$"
      ],
      "text/plain": [
       "[ 0  0  0  0]\n",
       "[-1 -2 -2  2]\n",
       "[ 1  3  3 -3]\n",
       "[ 0  1  1 -1]"
      ]
     },
     "metadata": {},
     "output_type": "display_data"
    }
   ],
   "source": [
    "pretty_print(N_1)"
   ]
  },
  {
   "cell_type": "code",
   "execution_count": 26,
   "id": "090772e6",
   "metadata": {},
   "outputs": [
    {
     "data": {
      "text/plain": [
       "[0 0 0 0]\n",
       "[0 0 0 0]\n",
       "[0 0 0 0]\n",
       "[0 0 0 0]"
      ]
     },
     "execution_count": 26,
     "metadata": {},
     "output_type": "execute_result"
    }
   ],
   "source": [
    "N_1 * N_1"
   ]
  },
  {
   "cell_type": "code",
   "execution_count": 29,
   "id": "3ec0d57b",
   "metadata": {},
   "outputs": [
    {
     "data": {
      "text/plain": [
       "[0 1 0 0]\n",
       "[0 0 1 0]\n",
       "[0 0 0 1]\n",
       "[0 0 0 0]"
      ]
     },
     "execution_count": 29,
     "metadata": {},
     "output_type": "execute_result"
    }
   ],
   "source": [
    "N_3 = matrix(QQ,4)\n",
    "N_3[0,1]=1\n",
    "N_3[1,2]=1\n",
    "N_3[2,3]=1\n",
    "N_3"
   ]
  },
  {
   "cell_type": "code",
   "execution_count": 31,
   "id": "76336249",
   "metadata": {},
   "outputs": [],
   "source": [
    "N_4 = R.inverse()*N_3*R"
   ]
  },
  {
   "cell_type": "code",
   "execution_count": 56,
   "id": "6aa0d61a",
   "metadata": {},
   "outputs": [
    {
     "data": {
      "text/html": [
       "<html>\\[\\newcommand{\\Bold}[1]{\\mathbf{#1}}\\left(\\begin{array}{rrrr}\n",
       "0 & -1 & -1 & 1 \\\\\n",
       "-1 & 1 & 1 & -1 \\\\\n",
       "1 & -1 & -1 & 1 \\\\\n",
       "0 & -1 & -1 & 0\n",
       "\\end{array}\\right)\\]</html>"
      ],
      "text/latex": [
       "$$\\newcommand{\\Bold}[1]{\\mathbf{#1}}\\left(\\begin{array}{rrrr}\n",
       "0 & -1 & -1 & 1 \\\\\n",
       "-1 & 1 & 1 & -1 \\\\\n",
       "1 & -1 & -1 & 1 \\\\\n",
       "0 & -1 & -1 & 0\n",
       "\\end{array}\\right)$$"
      ],
      "text/plain": [
       "[ 0 -1 -1  1]\n",
       "[-1  1  1 -1]\n",
       "[ 1 -1 -1  1]\n",
       "[ 0 -1 -1  0]"
      ]
     },
     "metadata": {},
     "output_type": "display_data"
    },
    {
     "data": {
      "text/plain": [
       "\\left(\\begin{array}{rrrr}\n",
       "0 & -1 & -1 & 1 \\\\\n",
       "-1 & 1 & 1 & -1 \\\\\n",
       "1 & -1 & -1 & 1 \\\\\n",
       "0 & -1 & -1 & 0\n",
       "\\end{array}\\right)"
      ]
     },
     "execution_count": 56,
     "metadata": {},
     "output_type": "execute_result"
    }
   ],
   "source": [
    "pretty_print(N_4)\n",
    "latex(N_4)"
   ]
  },
  {
   "cell_type": "code",
   "execution_count": 57,
   "id": "594989e0",
   "metadata": {},
   "outputs": [
    {
     "data": {
      "text/plain": [
       "[ 0 -1 -1  0]\n",
       "[ 0  2  2 -1]\n",
       "[ 0 -2 -2  1]\n",
       "[ 0  0  0  0]"
      ]
     },
     "execution_count": 57,
     "metadata": {},
     "output_type": "execute_result"
    }
   ],
   "source": [
    "N_4*N_4"
   ]
  },
  {
   "cell_type": "code",
   "execution_count": 58,
   "id": "836170ec",
   "metadata": {},
   "outputs": [
    {
     "data": {
      "text/html": [
       "<html>\\[\\newcommand{\\Bold}[1]{\\mathbf{#1}}\\left(\\begin{array}{rrrr}\n",
       "0 & 0 & 0 & 0 \\\\\n",
       "0 & 1 & 1 & 0 \\\\\n",
       "0 & -1 & -1 & 0 \\\\\n",
       "0 & 0 & 0 & 0\n",
       "\\end{array}\\right)\\]</html>"
      ],
      "text/latex": [
       "$$\\newcommand{\\Bold}[1]{\\mathbf{#1}}\\left(\\begin{array}{rrrr}\n",
       "0 & 0 & 0 & 0 \\\\\n",
       "0 & 1 & 1 & 0 \\\\\n",
       "0 & -1 & -1 & 0 \\\\\n",
       "0 & 0 & 0 & 0\n",
       "\\end{array}\\right)$$"
      ],
      "text/plain": [
       "[ 0  0  0  0]\n",
       "[ 0  1  1  0]\n",
       "[ 0 -1 -1  0]\n",
       "[ 0  0  0  0]"
      ]
     },
     "metadata": {},
     "output_type": "display_data"
    }
   ],
   "source": [
    "\n",
    "pretty_print(N_4*N_4 * N_4)"
   ]
  },
  {
   "cell_type": "code",
   "execution_count": 59,
   "id": "26053efd",
   "metadata": {},
   "outputs": [
    {
     "data": {
      "text/html": [
       "<html>\\[\\newcommand{\\Bold}[1]{\\mathbf{#1}}\\left(\\begin{array}{rrrr}\n",
       "0 & 0 & 0 & 0 \\\\\n",
       "0 & 0 & 0 & 0 \\\\\n",
       "0 & 0 & 0 & 0 \\\\\n",
       "0 & 0 & 0 & 0\n",
       "\\end{array}\\right)\\]</html>"
      ],
      "text/latex": [
       "$$\\newcommand{\\Bold}[1]{\\mathbf{#1}}\\left(\\begin{array}{rrrr}\n",
       "0 & 0 & 0 & 0 \\\\\n",
       "0 & 0 & 0 & 0 \\\\\n",
       "0 & 0 & 0 & 0 \\\\\n",
       "0 & 0 & 0 & 0\n",
       "\\end{array}\\right)$$"
      ],
      "text/plain": [
       "[0 0 0 0]\n",
       "[0 0 0 0]\n",
       "[0 0 0 0]\n",
       "[0 0 0 0]"
      ]
     },
     "metadata": {},
     "output_type": "display_data"
    }
   ],
   "source": [
    "pretty_print(N_4*N_4 * N_4 * N_4)"
   ]
  },
  {
   "cell_type": "code",
   "execution_count": 60,
   "id": "16e5d503",
   "metadata": {},
   "outputs": [
    {
     "data": {
      "text/html": [
       "<html>\\[\\newcommand{\\Bold}[1]{\\mathbf{#1}}\\left(\\begin{array}{r}\n",
       "-1 \\\\\n",
       "1 \\\\\n",
       "-1 \\\\\n",
       "-1\n",
       "\\end{array}\\right)\\]</html>"
      ],
      "text/latex": [
       "$$\\newcommand{\\Bold}[1]{\\mathbf{#1}}\\left(\\begin{array}{r}\n",
       "-1 \\\\\n",
       "1 \\\\\n",
       "-1 \\\\\n",
       "-1\n",
       "\\end{array}\\right)$$"
      ],
      "text/plain": [
       "[-1]\n",
       "[ 1]\n",
       "[-1]\n",
       "[-1]"
      ]
     },
     "metadata": {},
     "output_type": "display_data"
    }
   ],
   "source": [
    "v = matrix(QQ,[-1, 1,-1 ,-1]).transpose()\n",
    "pretty_print(v)"
   ]
  },
  {
   "cell_type": "code",
   "execution_count": 61,
   "id": "7e4378b3",
   "metadata": {},
   "outputs": [
    {
     "data": {
      "text/html": [
       "<html>\\[\\newcommand{\\Bold}[1]{\\mathbf{#1}}\\left(\\begin{array}{r}\n",
       "-1 \\\\\n",
       "1 \\\\\n",
       "-1 \\\\\n",
       "-1\n",
       "\\end{array}\\right)\\]</html>"
      ],
      "text/latex": [
       "$$\\newcommand{\\Bold}[1]{\\mathbf{#1}}\\left(\\begin{array}{r}\n",
       "-1 \\\\\n",
       "1 \\\\\n",
       "-1 \\\\\n",
       "-1\n",
       "\\end{array}\\right)$$"
      ],
      "text/plain": [
       "[-1]\n",
       "[ 1]\n",
       "[-1]\n",
       "[-1]"
      ]
     },
     "metadata": {},
     "output_type": "display_data"
    },
    {
     "data": {
      "text/html": [
       "<html>\\[\\newcommand{\\Bold}[1]{\\mathbf{#1}}\\left(\\begin{array}{r}\n",
       "-1 \\\\\n",
       "2 \\\\\n",
       "-2 \\\\\n",
       "0\n",
       "\\end{array}\\right)\\]</html>"
      ],
      "text/latex": [
       "$$\\newcommand{\\Bold}[1]{\\mathbf{#1}}\\left(\\begin{array}{r}\n",
       "-1 \\\\\n",
       "2 \\\\\n",
       "-2 \\\\\n",
       "0\n",
       "\\end{array}\\right)$$"
      ],
      "text/plain": [
       "[-1]\n",
       "[ 2]\n",
       "[-2]\n",
       "[ 0]"
      ]
     },
     "metadata": {},
     "output_type": "display_data"
    },
    {
     "data": {
      "text/html": [
       "<html>\\[\\newcommand{\\Bold}[1]{\\mathbf{#1}}\\left(\\begin{array}{r}\n",
       "0 \\\\\n",
       "1 \\\\\n",
       "-1 \\\\\n",
       "0\n",
       "\\end{array}\\right)\\]</html>"
      ],
      "text/latex": [
       "$$\\newcommand{\\Bold}[1]{\\mathbf{#1}}\\left(\\begin{array}{r}\n",
       "0 \\\\\n",
       "1 \\\\\n",
       "-1 \\\\\n",
       "0\n",
       "\\end{array}\\right)$$"
      ],
      "text/plain": [
       "[ 0]\n",
       "[ 1]\n",
       "[-1]\n",
       "[ 0]"
      ]
     },
     "metadata": {},
     "output_type": "display_data"
    },
    {
     "data": {
      "text/html": [
       "<html>\\[\\newcommand{\\Bold}[1]{\\mathbf{#1}}\\left(\\begin{array}{r}\n",
       "0 \\\\\n",
       "0 \\\\\n",
       "0 \\\\\n",
       "0\n",
       "\\end{array}\\right)\\]</html>"
      ],
      "text/latex": [
       "$$\\newcommand{\\Bold}[1]{\\mathbf{#1}}\\left(\\begin{array}{r}\n",
       "0 \\\\\n",
       "0 \\\\\n",
       "0 \\\\\n",
       "0\n",
       "\\end{array}\\right)$$"
      ],
      "text/plain": [
       "[0]\n",
       "[0]\n",
       "[0]\n",
       "[0]"
      ]
     },
     "metadata": {},
     "output_type": "display_data"
    }
   ],
   "source": [
    "pretty_print(v)\n",
    "pretty_print(N_4 * v )\n",
    "pretty_print(N_4*N_4*v )\n",
    "pretty_print(N_4*N_4*N_4*v)"
   ]
  },
  {
   "cell_type": "code",
   "execution_count": null,
   "id": "5683d434",
   "metadata": {},
   "outputs": [],
   "source": []
  }
 ],
 "metadata": {
  "kernelspec": {
   "display_name": "SageMath 10.2",
   "language": "sage",
   "name": "sagemath-10.2"
  },
  "language_info": {
   "codemirror_mode": {
    "name": "ipython",
    "version": 3
   },
   "file_extension": ".py",
   "mimetype": "text/x-python",
   "name": "python",
   "nbconvert_exporter": "python",
   "pygments_lexer": "ipython3",
   "version": "3.11.1"
  }
 },
 "nbformat": 4,
 "nbformat_minor": 5
}
